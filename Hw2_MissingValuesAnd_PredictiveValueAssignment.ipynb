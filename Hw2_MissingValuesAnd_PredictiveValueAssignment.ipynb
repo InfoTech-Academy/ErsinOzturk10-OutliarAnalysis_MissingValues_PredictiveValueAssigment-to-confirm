{
 "cells": [
  {
   "cell_type": "code",
   "execution_count": 1,
   "id": "b2473d00",
   "metadata": {
    "_cell_guid": "b1076dfc-b9ad-4769-8c92-a6c4dae69d19",
    "_uuid": "8f2839f25d086af736a60e9eeb907d3b93b6e0e5",
    "execution": {
     "iopub.execute_input": "2021-11-27T07:16:30.306779Z",
     "iopub.status.busy": "2021-11-27T07:16:30.305456Z",
     "iopub.status.idle": "2021-11-27T07:16:30.334019Z",
     "shell.execute_reply": "2021-11-27T07:16:30.334910Z",
     "shell.execute_reply.started": "2021-11-27T07:07:02.551021Z"
    },
    "papermill": {
     "duration": 0.054799,
     "end_time": "2021-11-27T07:16:30.335284",
     "exception": false,
     "start_time": "2021-11-27T07:16:30.280485",
     "status": "completed"
    },
    "tags": []
   },
   "outputs": [
    {
     "name": "stdout",
     "output_type": "stream",
     "text": [
      "/kaggle/input/housing/anscombe.csv\n",
      "/kaggle/input/housing/housing.csv\n"
     ]
    }
   ],
   "source": [
    "# This Python 3 environment comes with many helpful analytics libraries installed\n",
    "# It is defined by the kaggle/python Docker image: https://github.com/kaggle/docker-python\n",
    "# For example, here's several helpful packages to load\n",
    "\n",
    "import numpy as np # linear algebra\n",
    "import pandas as pd # data processing, CSV file I/O (e.g. pd.read_csv)\n",
    "\n",
    "# Input data files are available in the read-only \"../input/\" directory\n",
    "# For example, running this (by clicking run or pressing Shift+Enter) will list all files under the input directory\n",
    "\n",
    "import os\n",
    "for dirname, _, filenames in os.walk('/kaggle/input'):\n",
    "    for filename in filenames:\n",
    "        print(os.path.join(dirname, filename))\n",
    "\n",
    "# You can write up to 20GB to the current directory (/kaggle/working/) that gets preserved as output when you create a version using \"Save & Run All\" \n",
    "# You can also write temporary files to /kaggle/temp/, but they won't be saved outside of the current session"
   ]
  },
  {
   "cell_type": "code",
   "execution_count": 2,
   "id": "7a08786e",
   "metadata": {
    "execution": {
     "iopub.execute_input": "2021-11-27T07:16:30.385321Z",
     "iopub.status.busy": "2021-11-27T07:16:30.384183Z",
     "iopub.status.idle": "2021-11-27T07:16:30.459163Z",
     "shell.execute_reply": "2021-11-27T07:16:30.459808Z",
     "shell.execute_reply.started": "2021-11-27T07:07:02.566406Z"
    },
    "papermill": {
     "duration": 0.104356,
     "end_time": "2021-11-27T07:16:30.460014",
     "exception": false,
     "start_time": "2021-11-27T07:16:30.355658",
     "status": "completed"
    },
    "tags": []
   },
   "outputs": [],
   "source": [
    "df=pd.read_csv(\"/kaggle/input/housing/housing.csv\")"
   ]
  },
  {
   "cell_type": "code",
   "execution_count": 3,
   "id": "8e91baf1",
   "metadata": {
    "execution": {
     "iopub.execute_input": "2021-11-27T07:16:30.524610Z",
     "iopub.status.busy": "2021-11-27T07:16:30.520007Z",
     "iopub.status.idle": "2021-11-27T07:16:30.539741Z",
     "shell.execute_reply": "2021-11-27T07:16:30.540297Z",
     "shell.execute_reply.started": "2021-11-27T07:07:02.638264Z"
    },
    "papermill": {
     "duration": 0.052096,
     "end_time": "2021-11-27T07:16:30.540501",
     "exception": false,
     "start_time": "2021-11-27T07:16:30.488405",
     "status": "completed"
    },
    "tags": []
   },
   "outputs": [
    {
     "data": {
      "text/html": [
       "<div>\n",
       "<style scoped>\n",
       "    .dataframe tbody tr th:only-of-type {\n",
       "        vertical-align: middle;\n",
       "    }\n",
       "\n",
       "    .dataframe tbody tr th {\n",
       "        vertical-align: top;\n",
       "    }\n",
       "\n",
       "    .dataframe thead th {\n",
       "        text-align: right;\n",
       "    }\n",
       "</style>\n",
       "<table border=\"1\" class=\"dataframe\">\n",
       "  <thead>\n",
       "    <tr style=\"text-align: right;\">\n",
       "      <th></th>\n",
       "      <th>0</th>\n",
       "      <th>1</th>\n",
       "      <th>2</th>\n",
       "      <th>3</th>\n",
       "      <th>4</th>\n",
       "    </tr>\n",
       "  </thead>\n",
       "  <tbody>\n",
       "    <tr>\n",
       "      <th>longitude</th>\n",
       "      <td>-122.23</td>\n",
       "      <td>-122.22</td>\n",
       "      <td>-122.24</td>\n",
       "      <td>-122.25</td>\n",
       "      <td>-122.25</td>\n",
       "    </tr>\n",
       "    <tr>\n",
       "      <th>latitude</th>\n",
       "      <td>37.88</td>\n",
       "      <td>37.86</td>\n",
       "      <td>37.85</td>\n",
       "      <td>37.85</td>\n",
       "      <td>37.85</td>\n",
       "    </tr>\n",
       "    <tr>\n",
       "      <th>housing_median_age</th>\n",
       "      <td>41.0</td>\n",
       "      <td>21.0</td>\n",
       "      <td>52.0</td>\n",
       "      <td>52.0</td>\n",
       "      <td>52.0</td>\n",
       "    </tr>\n",
       "    <tr>\n",
       "      <th>total_rooms</th>\n",
       "      <td>880.0</td>\n",
       "      <td>7099.0</td>\n",
       "      <td>1467.0</td>\n",
       "      <td>1274.0</td>\n",
       "      <td>1627.0</td>\n",
       "    </tr>\n",
       "    <tr>\n",
       "      <th>total_bedrooms</th>\n",
       "      <td>129.0</td>\n",
       "      <td>1106.0</td>\n",
       "      <td>190.0</td>\n",
       "      <td>235.0</td>\n",
       "      <td>280.0</td>\n",
       "    </tr>\n",
       "    <tr>\n",
       "      <th>population</th>\n",
       "      <td>322.0</td>\n",
       "      <td>2401.0</td>\n",
       "      <td>496.0</td>\n",
       "      <td>558.0</td>\n",
       "      <td>565.0</td>\n",
       "    </tr>\n",
       "    <tr>\n",
       "      <th>households</th>\n",
       "      <td>126.0</td>\n",
       "      <td>1138.0</td>\n",
       "      <td>177.0</td>\n",
       "      <td>219.0</td>\n",
       "      <td>259.0</td>\n",
       "    </tr>\n",
       "    <tr>\n",
       "      <th>median_income</th>\n",
       "      <td>8.3252</td>\n",
       "      <td>8.3014</td>\n",
       "      <td>7.2574</td>\n",
       "      <td>5.6431</td>\n",
       "      <td>3.8462</td>\n",
       "    </tr>\n",
       "    <tr>\n",
       "      <th>median_house_value</th>\n",
       "      <td>452600.0</td>\n",
       "      <td>358500.0</td>\n",
       "      <td>352100.0</td>\n",
       "      <td>341300.0</td>\n",
       "      <td>342200.0</td>\n",
       "    </tr>\n",
       "    <tr>\n",
       "      <th>ocean_proximity</th>\n",
       "      <td>NEAR BAY</td>\n",
       "      <td>NEAR BAY</td>\n",
       "      <td>NEAR BAY</td>\n",
       "      <td>NEAR BAY</td>\n",
       "      <td>NEAR BAY</td>\n",
       "    </tr>\n",
       "  </tbody>\n",
       "</table>\n",
       "</div>"
      ],
      "text/plain": [
       "                           0         1         2         3         4\n",
       "longitude            -122.23   -122.22   -122.24   -122.25   -122.25\n",
       "latitude               37.88     37.86     37.85     37.85     37.85\n",
       "housing_median_age      41.0      21.0      52.0      52.0      52.0\n",
       "total_rooms            880.0    7099.0    1467.0    1274.0    1627.0\n",
       "total_bedrooms         129.0    1106.0     190.0     235.0     280.0\n",
       "population             322.0    2401.0     496.0     558.0     565.0\n",
       "households             126.0    1138.0     177.0     219.0     259.0\n",
       "median_income         8.3252    8.3014    7.2574    5.6431    3.8462\n",
       "median_house_value  452600.0  358500.0  352100.0  341300.0  342200.0\n",
       "ocean_proximity     NEAR BAY  NEAR BAY  NEAR BAY  NEAR BAY  NEAR BAY"
      ]
     },
     "execution_count": 3,
     "metadata": {},
     "output_type": "execute_result"
    }
   ],
   "source": [
    "df.head().T"
   ]
  },
  {
   "cell_type": "code",
   "execution_count": 4,
   "id": "0154af26",
   "metadata": {
    "execution": {
     "iopub.execute_input": "2021-11-27T07:16:30.587627Z",
     "iopub.status.busy": "2021-11-27T07:16:30.586875Z",
     "iopub.status.idle": "2021-11-27T07:16:30.600065Z",
     "shell.execute_reply": "2021-11-27T07:16:30.599451Z",
     "shell.execute_reply.started": "2021-11-27T07:07:02.667199Z"
    },
    "papermill": {
     "duration": 0.03948,
     "end_time": "2021-11-27T07:16:30.600258",
     "exception": false,
     "start_time": "2021-11-27T07:16:30.560778",
     "status": "completed"
    },
    "tags": []
   },
   "outputs": [],
   "source": [
    "df = df.select_dtypes(include = ['float64', 'int64']) "
   ]
  },
  {
   "cell_type": "code",
   "execution_count": 5,
   "id": "4c05eb75",
   "metadata": {
    "execution": {
     "iopub.execute_input": "2021-11-27T07:16:30.646955Z",
     "iopub.status.busy": "2021-11-27T07:16:30.646180Z",
     "iopub.status.idle": "2021-11-27T07:16:30.662551Z",
     "shell.execute_reply": "2021-11-27T07:16:30.661861Z",
     "shell.execute_reply.started": "2021-11-27T07:07:02.683567Z"
    },
    "papermill": {
     "duration": 0.041785,
     "end_time": "2021-11-27T07:16:30.662710",
     "exception": false,
     "start_time": "2021-11-27T07:16:30.620925",
     "status": "completed"
    },
    "tags": []
   },
   "outputs": [
    {
     "data": {
      "text/html": [
       "<div>\n",
       "<style scoped>\n",
       "    .dataframe tbody tr th:only-of-type {\n",
       "        vertical-align: middle;\n",
       "    }\n",
       "\n",
       "    .dataframe tbody tr th {\n",
       "        vertical-align: top;\n",
       "    }\n",
       "\n",
       "    .dataframe thead th {\n",
       "        text-align: right;\n",
       "    }\n",
       "</style>\n",
       "<table border=\"1\" class=\"dataframe\">\n",
       "  <thead>\n",
       "    <tr style=\"text-align: right;\">\n",
       "      <th></th>\n",
       "      <th>0</th>\n",
       "      <th>1</th>\n",
       "      <th>2</th>\n",
       "      <th>3</th>\n",
       "      <th>4</th>\n",
       "    </tr>\n",
       "  </thead>\n",
       "  <tbody>\n",
       "    <tr>\n",
       "      <th>longitude</th>\n",
       "      <td>-122.2300</td>\n",
       "      <td>-122.2200</td>\n",
       "      <td>-122.2400</td>\n",
       "      <td>-122.2500</td>\n",
       "      <td>-122.2500</td>\n",
       "    </tr>\n",
       "    <tr>\n",
       "      <th>latitude</th>\n",
       "      <td>37.8800</td>\n",
       "      <td>37.8600</td>\n",
       "      <td>37.8500</td>\n",
       "      <td>37.8500</td>\n",
       "      <td>37.8500</td>\n",
       "    </tr>\n",
       "    <tr>\n",
       "      <th>housing_median_age</th>\n",
       "      <td>41.0000</td>\n",
       "      <td>21.0000</td>\n",
       "      <td>52.0000</td>\n",
       "      <td>52.0000</td>\n",
       "      <td>52.0000</td>\n",
       "    </tr>\n",
       "    <tr>\n",
       "      <th>total_rooms</th>\n",
       "      <td>880.0000</td>\n",
       "      <td>7099.0000</td>\n",
       "      <td>1467.0000</td>\n",
       "      <td>1274.0000</td>\n",
       "      <td>1627.0000</td>\n",
       "    </tr>\n",
       "    <tr>\n",
       "      <th>total_bedrooms</th>\n",
       "      <td>129.0000</td>\n",
       "      <td>1106.0000</td>\n",
       "      <td>190.0000</td>\n",
       "      <td>235.0000</td>\n",
       "      <td>280.0000</td>\n",
       "    </tr>\n",
       "    <tr>\n",
       "      <th>population</th>\n",
       "      <td>322.0000</td>\n",
       "      <td>2401.0000</td>\n",
       "      <td>496.0000</td>\n",
       "      <td>558.0000</td>\n",
       "      <td>565.0000</td>\n",
       "    </tr>\n",
       "    <tr>\n",
       "      <th>households</th>\n",
       "      <td>126.0000</td>\n",
       "      <td>1138.0000</td>\n",
       "      <td>177.0000</td>\n",
       "      <td>219.0000</td>\n",
       "      <td>259.0000</td>\n",
       "    </tr>\n",
       "    <tr>\n",
       "      <th>median_income</th>\n",
       "      <td>8.3252</td>\n",
       "      <td>8.3014</td>\n",
       "      <td>7.2574</td>\n",
       "      <td>5.6431</td>\n",
       "      <td>3.8462</td>\n",
       "    </tr>\n",
       "    <tr>\n",
       "      <th>median_house_value</th>\n",
       "      <td>452600.0000</td>\n",
       "      <td>358500.0000</td>\n",
       "      <td>352100.0000</td>\n",
       "      <td>341300.0000</td>\n",
       "      <td>342200.0000</td>\n",
       "    </tr>\n",
       "  </tbody>\n",
       "</table>\n",
       "</div>"
      ],
      "text/plain": [
       "                              0            1            2            3  \\\n",
       "longitude             -122.2300    -122.2200    -122.2400    -122.2500   \n",
       "latitude                37.8800      37.8600      37.8500      37.8500   \n",
       "housing_median_age      41.0000      21.0000      52.0000      52.0000   \n",
       "total_rooms            880.0000    7099.0000    1467.0000    1274.0000   \n",
       "total_bedrooms         129.0000    1106.0000     190.0000     235.0000   \n",
       "population             322.0000    2401.0000     496.0000     558.0000   \n",
       "households             126.0000    1138.0000     177.0000     219.0000   \n",
       "median_income            8.3252       8.3014       7.2574       5.6431   \n",
       "median_house_value  452600.0000  358500.0000  352100.0000  341300.0000   \n",
       "\n",
       "                              4  \n",
       "longitude             -122.2500  \n",
       "latitude                37.8500  \n",
       "housing_median_age      52.0000  \n",
       "total_rooms           1627.0000  \n",
       "total_bedrooms         280.0000  \n",
       "population             565.0000  \n",
       "households             259.0000  \n",
       "median_income            3.8462  \n",
       "median_house_value  342200.0000  "
      ]
     },
     "execution_count": 5,
     "metadata": {},
     "output_type": "execute_result"
    }
   ],
   "source": [
    "df.head().T"
   ]
  },
  {
   "cell_type": "code",
   "execution_count": 6,
   "id": "a5eb80b6",
   "metadata": {
    "execution": {
     "iopub.execute_input": "2021-11-27T07:16:30.710430Z",
     "iopub.status.busy": "2021-11-27T07:16:30.709696Z",
     "iopub.status.idle": "2021-11-27T07:16:30.717299Z",
     "shell.execute_reply": "2021-11-27T07:16:30.717814Z",
     "shell.execute_reply.started": "2021-11-27T07:07:02.705218Z"
    },
    "papermill": {
     "duration": 0.033671,
     "end_time": "2021-11-27T07:16:30.718003",
     "exception": false,
     "start_time": "2021-11-27T07:16:30.684332",
     "status": "completed"
    },
    "tags": []
   },
   "outputs": [
    {
     "data": {
      "text/plain": [
       "longitude               0\n",
       "latitude                0\n",
       "housing_median_age      0\n",
       "total_rooms             0\n",
       "total_bedrooms        207\n",
       "population              0\n",
       "households              0\n",
       "median_income           0\n",
       "median_house_value      0\n",
       "dtype: int64"
      ]
     },
     "execution_count": 6,
     "metadata": {},
     "output_type": "execute_result"
    }
   ],
   "source": [
    "df.isnull().sum()"
   ]
  },
  {
   "cell_type": "markdown",
   "id": "450130e5",
   "metadata": {
    "papermill": {
     "duration": 0.020906,
     "end_time": "2021-11-27T07:16:30.760266",
     "exception": false,
     "start_time": "2021-11-27T07:16:30.739360",
     "status": "completed"
    },
    "tags": []
   },
   "source": [
    "### Veri Görselleştirme"
   ]
  },
  {
   "cell_type": "code",
   "execution_count": 7,
   "id": "abd4a952",
   "metadata": {
    "execution": {
     "iopub.execute_input": "2021-11-27T07:16:30.807285Z",
     "iopub.status.busy": "2021-11-27T07:16:30.806483Z",
     "iopub.status.idle": "2021-11-27T07:16:31.797717Z",
     "shell.execute_reply": "2021-11-27T07:16:31.797099Z",
     "shell.execute_reply.started": "2021-11-27T07:08:27.938957Z"
    },
    "papermill": {
     "duration": 1.016277,
     "end_time": "2021-11-27T07:16:31.797917",
     "exception": false,
     "start_time": "2021-11-27T07:16:30.781640",
     "status": "completed"
    },
    "tags": []
   },
   "outputs": [],
   "source": [
    "import seaborn as sns\n",
    "import missingno as msno"
   ]
  },
  {
   "cell_type": "code",
   "execution_count": 8,
   "id": "f1e7e673",
   "metadata": {
    "execution": {
     "iopub.execute_input": "2021-11-27T07:16:31.848044Z",
     "iopub.status.busy": "2021-11-27T07:16:31.847265Z",
     "iopub.status.idle": "2021-11-27T07:16:33.123452Z",
     "shell.execute_reply": "2021-11-27T07:16:33.122808Z",
     "shell.execute_reply.started": "2021-11-27T07:09:07.540968Z"
    },
    "papermill": {
     "duration": 1.302875,
     "end_time": "2021-11-27T07:16:33.123614",
     "exception": false,
     "start_time": "2021-11-27T07:16:31.820739",
     "status": "completed"
    },
    "tags": []
   },
   "outputs": [
    {
     "data": {
      "image/png": "[encoded data removed]",
      "text/plain": [
       "<Figure size 1728x720 with 3 Axes>"
      ]
     },
     "metadata": {
      "needs_background": "light"
     },
     "output_type": "display_data"
    }
   ],
   "source": [
    "msno.bar(df); # Verileri görselleştirdiğiğmizde eksik verilerin totaL_bedrooms kolonunda olduğu anlaşılmaktadır"
   ]
  },
  {
   "cell_type": "code",
   "execution_count": 9,
   "id": "d8362e79",
   "metadata": {
    "execution": {
     "iopub.execute_input": "2021-11-27T07:16:33.179506Z",
     "iopub.status.busy": "2021-11-27T07:16:33.178692Z",
     "iopub.status.idle": "2021-11-27T07:16:33.862006Z",
     "shell.execute_reply": "2021-11-27T07:16:33.862591Z",
     "shell.execute_reply.started": "2021-11-27T07:09:21.278561Z"
    },
    "papermill": {
     "duration": 0.712723,
     "end_time": "2021-11-27T07:16:33.862800",
     "exception": false,
     "start_time": "2021-11-27T07:16:33.150077",
     "status": "completed"
    },
    "tags": []
   },
   "outputs": [
    {
     "data": {
      "image/png": "[encoded data removed]",
      "text/plain": [
       "<Figure size 1800x720 with 2 Axes>"
      ]
     },
     "metadata": {
      "needs_background": "light"
     },
     "output_type": "display_data"
    }
   ],
   "source": [
    "msno.matrix(df); # Eksik veriler burada daha net gözükmektedir"
   ]
  },
  {
   "cell_type": "markdown",
   "id": "d8ec93ed",
   "metadata": {
    "papermill": {
     "duration": 0.024716,
     "end_time": "2021-11-27T07:16:33.912544",
     "exception": false,
     "start_time": "2021-11-27T07:16:33.887828",
     "status": "completed"
    },
    "tags": []
   },
   "source": [
    "## Verileri Silme veya Ortalama Değer Atama"
   ]
  },
  {
   "cell_type": "code",
   "execution_count": 10,
   "id": "02a59838",
   "metadata": {
    "execution": {
     "iopub.execute_input": "2021-11-27T07:16:33.969322Z",
     "iopub.status.busy": "2021-11-27T07:16:33.966639Z",
     "iopub.status.idle": "2021-11-27T07:16:33.979070Z",
     "shell.execute_reply": "2021-11-27T07:16:33.979608Z",
     "shell.execute_reply.started": "2021-11-27T07:07:02.717443Z"
    },
    "papermill": {
     "duration": 0.042217,
     "end_time": "2021-11-27T07:16:33.979864",
     "exception": false,
     "start_time": "2021-11-27T07:16:33.937647",
     "status": "completed"
    },
    "tags": []
   },
   "outputs": [
    {
     "data": {
      "text/plain": [
       "longitude             0\n",
       "latitude              0\n",
       "housing_median_age    0\n",
       "total_rooms           0\n",
       "total_bedrooms        0\n",
       "population            0\n",
       "households            0\n",
       "median_income         0\n",
       "median_house_value    0\n",
       "dtype: int64"
      ]
     },
     "execution_count": 10,
     "metadata": {},
     "output_type": "execute_result"
    }
   ],
   "source": [
    "df.dropna().isnull().sum() # dropna dediğimiz 207 adet veri silinir."
   ]
  },
  {
   "cell_type": "code",
   "execution_count": 11,
   "id": "0c43586c",
   "metadata": {
    "execution": {
     "iopub.execute_input": "2021-11-27T07:16:34.037005Z",
     "iopub.status.busy": "2021-11-27T07:16:34.035989Z",
     "iopub.status.idle": "2021-11-27T07:16:34.050260Z",
     "shell.execute_reply": "2021-11-27T07:16:34.050942Z",
     "shell.execute_reply.started": "2021-11-27T07:07:02.733166Z"
    },
    "papermill": {
     "duration": 0.044279,
     "end_time": "2021-11-27T07:16:34.051178",
     "exception": false,
     "start_time": "2021-11-27T07:16:34.006899",
     "status": "completed"
    },
    "tags": []
   },
   "outputs": [
    {
     "data": {
      "text/plain": [
       "longitude             0\n",
       "latitude              0\n",
       "housing_median_age    0\n",
       "total_rooms           0\n",
       "total_bedrooms        0\n",
       "population            0\n",
       "households            0\n",
       "median_income         0\n",
       "median_house_value    0\n",
       "dtype: int64"
      ]
     },
     "execution_count": 11,
     "metadata": {},
     "output_type": "execute_result"
    }
   ],
   "source": [
    "# Ortalama Değer Atama\n",
    "df2=df.fillna(df.mean()[:])\n",
    "df2.isnull().sum()"
   ]
  },
  {
   "cell_type": "markdown",
   "id": "e30426d2",
   "metadata": {
    "papermill": {
     "duration": 0.025851,
     "end_time": "2021-11-27T07:16:34.102682",
     "exception": false,
     "start_time": "2021-11-27T07:16:34.076831",
     "status": "completed"
    },
    "tags": []
   },
   "source": [
    "## Tahmine Dayalı değer atama"
   ]
  },
  {
   "cell_type": "code",
   "execution_count": 12,
   "id": "7dd89418",
   "metadata": {
    "execution": {
     "iopub.execute_input": "2021-11-27T07:16:34.157802Z",
     "iopub.status.busy": "2021-11-27T07:16:34.157095Z",
     "iopub.status.idle": "2021-11-27T07:16:34.164965Z",
     "shell.execute_reply": "2021-11-27T07:16:34.165482Z",
     "shell.execute_reply.started": "2021-11-27T07:07:02.754682Z"
    },
    "papermill": {
     "duration": 0.037642,
     "end_time": "2021-11-27T07:16:34.165670",
     "exception": false,
     "start_time": "2021-11-27T07:16:34.128028",
     "status": "completed"
    },
    "tags": []
   },
   "outputs": [
    {
     "data": {
      "text/plain": [
       "longitude               0\n",
       "latitude                0\n",
       "housing_median_age      0\n",
       "total_rooms             0\n",
       "total_bedrooms        207\n",
       "population              0\n",
       "households              0\n",
       "median_income           0\n",
       "median_house_value      0\n",
       "dtype: int64"
      ]
     },
     "execution_count": 12,
     "metadata": {},
     "output_type": "execute_result"
    }
   ],
   "source": [
    "df.isnull().sum()"
   ]
  },
  {
   "cell_type": "code",
   "execution_count": 13,
   "id": "b4d56e8c",
   "metadata": {
    "execution": {
     "iopub.execute_input": "2021-11-27T07:16:34.220667Z",
     "iopub.status.busy": "2021-11-27T07:16:34.219975Z",
     "iopub.status.idle": "2021-11-27T07:16:46.013369Z",
     "shell.execute_reply": "2021-11-27T07:16:46.012576Z",
     "shell.execute_reply.started": "2021-11-27T07:07:02.765850Z"
    },
    "papermill": {
     "duration": 11.822142,
     "end_time": "2021-11-27T07:16:46.013533",
     "exception": false,
     "start_time": "2021-11-27T07:16:34.191391",
     "status": "completed"
    },
    "tags": []
   },
   "outputs": [
    {
     "name": "stdout",
     "output_type": "stream",
     "text": [
      "Collecting ycimpute\r\n",
      "  Downloading ycimpute-0.2-py3-none-any.whl (35 kB)\r\n",
      "Requirement already satisfied: scipy in /opt/conda/lib/python3.7/site-packages (from ycimpute) (1.7.1)\r\n",
      "Requirement already satisfied: torch>=1.1.0 in /opt/conda/lib/python3.7/site-packages (from ycimpute) (1.9.1+cpu)\r\n",
      "Requirement already satisfied: numpy>=1.10 in /opt/conda/lib/python3.7/site-packages (from ycimpute) (1.19.5)\r\n",
      "Requirement already satisfied: scikit-learn>=0.17.1 in /opt/conda/lib/python3.7/site-packages (from ycimpute) (0.23.2)\r\n",
      "Requirement already satisfied: six in /opt/conda/lib/python3.7/site-packages (from ycimpute) (1.16.0)\r\n",
      "Requirement already satisfied: joblib>=0.11 in /opt/conda/lib/python3.7/site-packages (from scikit-learn>=0.17.1->ycimpute) (1.0.1)\r\n",
      "Requirement already satisfied: threadpoolctl>=2.0.0 in /opt/conda/lib/python3.7/site-packages (from scikit-learn>=0.17.1->ycimpute) (2.2.0)\r\n",
      "Requirement already satisfied: typing-extensions in /opt/conda/lib/python3.7/site-packages (from torch>=1.1.0->ycimpute) (3.10.0.2)\r\n",
      "Installing collected packages: ycimpute\r\n",
      "Successfully installed ycimpute-0.2\r\n",
      "\u001b[33mWARNING: Running pip as the 'root' user can result in broken permissions and conflicting behaviour with the system package manager. It is recommended to use a virtual environment instead: https://pip.pypa.io/warnings/venv\u001b[0m\r\n"
     ]
    }
   ],
   "source": [
    "!pip install ycimpute"
   ]
  },
  {
   "cell_type": "code",
   "execution_count": 14,
   "id": "02c152f5",
   "metadata": {
    "execution": {
     "iopub.execute_input": "2021-11-27T07:16:46.077279Z",
     "iopub.status.busy": "2021-11-27T07:16:46.076579Z",
     "iopub.status.idle": "2021-11-27T07:16:47.551096Z",
     "shell.execute_reply": "2021-11-27T07:16:47.550433Z",
     "shell.execute_reply.started": "2021-11-27T07:07:14.650570Z"
    },
    "papermill": {
     "duration": 1.509706,
     "end_time": "2021-11-27T07:16:47.551315",
     "exception": false,
     "start_time": "2021-11-27T07:16:46.041609",
     "status": "completed"
    },
    "tags": []
   },
   "outputs": [],
   "source": [
    "from ycimpute.imputer import knnimput"
   ]
  },
  {
   "cell_type": "code",
   "execution_count": 15,
   "id": "41e78aa6",
   "metadata": {
    "execution": {
     "iopub.execute_input": "2021-11-27T07:16:47.615048Z",
     "iopub.status.busy": "2021-11-27T07:16:47.613480Z",
     "iopub.status.idle": "2021-11-27T07:16:47.615801Z",
     "shell.execute_reply": "2021-11-27T07:16:47.616334Z",
     "shell.execute_reply.started": "2021-11-27T07:07:16.246617Z"
    },
    "papermill": {
     "duration": 0.036277,
     "end_time": "2021-11-27T07:16:47.616533",
     "exception": false,
     "start_time": "2021-11-27T07:16:47.580256",
     "status": "completed"
    },
    "tags": []
   },
   "outputs": [],
   "source": [
    "var_names = list(df)"
   ]
  },
  {
   "cell_type": "code",
   "execution_count": 16,
   "id": "d65186f8",
   "metadata": {
    "execution": {
     "iopub.execute_input": "2021-11-27T07:16:47.679027Z",
     "iopub.status.busy": "2021-11-27T07:16:47.677759Z",
     "iopub.status.idle": "2021-11-27T07:16:47.681854Z",
     "shell.execute_reply": "2021-11-27T07:16:47.682546Z",
     "shell.execute_reply.started": "2021-11-27T07:07:16.254049Z"
    },
    "papermill": {
     "duration": 0.037862,
     "end_time": "2021-11-27T07:16:47.682757",
     "exception": false,
     "start_time": "2021-11-27T07:16:47.644895",
     "status": "completed"
    },
    "tags": []
   },
   "outputs": [],
   "source": [
    "n_df = np.array(df)"
   ]
  },
  {
   "cell_type": "code",
   "execution_count": 17,
   "id": "a4dd6088",
   "metadata": {
    "execution": {
     "iopub.execute_input": "2021-11-27T07:16:47.744077Z",
     "iopub.status.busy": "2021-11-27T07:16:47.743388Z",
     "iopub.status.idle": "2021-11-27T07:16:47.751395Z",
     "shell.execute_reply": "2021-11-27T07:16:47.752028Z",
     "shell.execute_reply.started": "2021-11-27T07:07:16.267503Z"
    },
    "papermill": {
     "duration": 0.041639,
     "end_time": "2021-11-27T07:16:47.752248",
     "exception": false,
     "start_time": "2021-11-27T07:16:47.710609",
     "status": "completed"
    },
    "tags": []
   },
   "outputs": [
    {
     "data": {
      "text/plain": [
       "array([[-1.2223e+02,  3.7880e+01,  4.1000e+01,  8.8000e+02,  1.2900e+02,\n",
       "         3.2200e+02,  1.2600e+02,  8.3252e+00,  4.5260e+05],\n",
       "       [-1.2222e+02,  3.7860e+01,  2.1000e+01,  7.0990e+03,  1.1060e+03,\n",
       "         2.4010e+03,  1.1380e+03,  8.3014e+00,  3.5850e+05],\n",
       "       [-1.2224e+02,  3.7850e+01,  5.2000e+01,  1.4670e+03,  1.9000e+02,\n",
       "         4.9600e+02,  1.7700e+02,  7.2574e+00,  3.5210e+05],\n",
       "       [-1.2225e+02,  3.7850e+01,  5.2000e+01,  1.2740e+03,  2.3500e+02,\n",
       "         5.5800e+02,  2.1900e+02,  5.6431e+00,  3.4130e+05],\n",
       "       [-1.2225e+02,  3.7850e+01,  5.2000e+01,  1.6270e+03,  2.8000e+02,\n",
       "         5.6500e+02,  2.5900e+02,  3.8462e+00,  3.4220e+05],\n",
       "       [-1.2225e+02,  3.7850e+01,  5.2000e+01,  9.1900e+02,  2.1300e+02,\n",
       "         4.1300e+02,  1.9300e+02,  4.0368e+00,  2.6970e+05],\n",
       "       [-1.2225e+02,  3.7840e+01,  5.2000e+01,  2.5350e+03,  4.8900e+02,\n",
       "         1.0940e+03,  5.1400e+02,  3.6591e+00,  2.9920e+05],\n",
       "       [-1.2225e+02,  3.7840e+01,  5.2000e+01,  3.1040e+03,  6.8700e+02,\n",
       "         1.1570e+03,  6.4700e+02,  3.1200e+00,  2.4140e+05],\n",
       "       [-1.2226e+02,  3.7840e+01,  4.2000e+01,  2.5550e+03,  6.6500e+02,\n",
       "         1.2060e+03,  5.9500e+02,  2.0804e+00,  2.2670e+05],\n",
       "       [-1.2225e+02,  3.7840e+01,  5.2000e+01,  3.5490e+03,  7.0700e+02,\n",
       "         1.5510e+03,  7.1400e+02,  3.6912e+00,  2.6110e+05]])"
      ]
     },
     "execution_count": 17,
     "metadata": {},
     "output_type": "execute_result"
    }
   ],
   "source": [
    "n_df[0:10]"
   ]
  },
  {
   "cell_type": "code",
   "execution_count": 18,
   "id": "4d365431",
   "metadata": {
    "execution": {
     "iopub.execute_input": "2021-11-27T07:16:47.815624Z",
     "iopub.status.busy": "2021-11-27T07:16:47.814860Z",
     "iopub.status.idle": "2021-11-27T07:16:47.820506Z",
     "shell.execute_reply": "2021-11-27T07:16:47.821028Z",
     "shell.execute_reply.started": "2021-11-27T07:07:16.282449Z"
    },
    "papermill": {
     "duration": 0.038679,
     "end_time": "2021-11-27T07:16:47.821263",
     "exception": false,
     "start_time": "2021-11-27T07:16:47.782584",
     "status": "completed"
    },
    "tags": []
   },
   "outputs": [
    {
     "data": {
      "text/plain": [
       "(20640, 9)"
      ]
     },
     "execution_count": 18,
     "metadata": {},
     "output_type": "execute_result"
    }
   ],
   "source": [
    "n_df.shape"
   ]
  },
  {
   "cell_type": "code",
   "execution_count": 19,
   "id": "1e0ffce5",
   "metadata": {
    "execution": {
     "iopub.execute_input": "2021-11-27T07:16:47.885096Z",
     "iopub.status.busy": "2021-11-27T07:16:47.884140Z",
     "iopub.status.idle": "2021-11-27T07:18:02.788393Z",
     "shell.execute_reply": "2021-11-27T07:18:02.789378Z",
     "shell.execute_reply.started": "2021-11-27T07:07:16.291168Z"
    },
    "papermill": {
     "duration": 74.939683,
     "end_time": "2021-11-27T07:18:02.789692",
     "exception": false,
     "start_time": "2021-11-27T07:16:47.850009",
     "status": "completed"
    },
    "tags": []
   },
   "outputs": [
    {
     "name": "stdout",
     "output_type": "stream",
     "text": [
      "Imputing row 1/20640 with 0 missing, elapsed time: 74.668\n",
      "Imputing row 101/20640 with 0 missing, elapsed time: 74.669\n",
      "Imputing row 201/20640 with 0 missing, elapsed time: 74.669\n",
      "Imputing row 301/20640 with 0 missing, elapsed time: 74.671\n",
      "Imputing row 401/20640 with 0 missing, elapsed time: 74.672\n",
      "Imputing row 501/20640 with 0 missing, elapsed time: 74.672\n",
      "Imputing row 601/20640 with 0 missing, elapsed time: 74.673\n",
      "Imputing row 701/20640 with 0 missing, elapsed time: 74.674\n",
      "Imputing row 801/20640 with 0 missing, elapsed time: 74.675\n",
      "Imputing row 901/20640 with 0 missing, elapsed time: 74.675\n",
      "Imputing row 1001/20640 with 0 missing, elapsed time: 74.676\n",
      "Imputing row 1101/20640 with 0 missing, elapsed time: 74.677\n",
      "Imputing row 1201/20640 with 0 missing, elapsed time: 74.677\n",
      "Imputing row 1301/20640 with 0 missing, elapsed time: 74.678\n",
      "Imputing row 1401/20640 with 0 missing, elapsed time: 74.679\n",
      "Imputing row 1501/20640 with 0 missing, elapsed time: 74.680\n",
      "Imputing row 1601/20640 with 0 missing, elapsed time: 74.680\n",
      "Imputing row 1701/20640 with 0 missing, elapsed time: 74.681\n",
      "Imputing row 1801/20640 with 0 missing, elapsed time: 74.682\n",
      "Imputing row 1901/20640 with 0 missing, elapsed time: 74.682\n",
      "Imputing row 2001/20640 with 0 missing, elapsed time: 74.683\n",
      "Imputing row 2101/20640 with 0 missing, elapsed time: 74.684\n",
      "Imputing row 2201/20640 with 0 missing, elapsed time: 74.685\n",
      "Imputing row 2301/20640 with 0 missing, elapsed time: 74.685\n",
      "Imputing row 2401/20640 with 0 missing, elapsed time: 74.686\n",
      "Imputing row 2501/20640 with 0 missing, elapsed time: 74.687\n",
      "Imputing row 2601/20640 with 0 missing, elapsed time: 74.688\n",
      "Imputing row 2701/20640 with 0 missing, elapsed time: 74.689\n",
      "Imputing row 2801/20640 with 0 missing, elapsed time: 74.689\n",
      "Imputing row 2901/20640 with 0 missing, elapsed time: 74.690\n",
      "Imputing row 3001/20640 with 0 missing, elapsed time: 74.691\n",
      "Imputing row 3101/20640 with 0 missing, elapsed time: 74.692\n",
      "Imputing row 3201/20640 with 0 missing, elapsed time: 74.692\n",
      "Imputing row 3301/20640 with 0 missing, elapsed time: 74.693\n",
      "Imputing row 3401/20640 with 0 missing, elapsed time: 74.694\n",
      "Imputing row 3501/20640 with 0 missing, elapsed time: 74.695\n",
      "Imputing row 3601/20640 with 0 missing, elapsed time: 74.695\n",
      "Imputing row 3701/20640 with 0 missing, elapsed time: 74.696\n",
      "Imputing row 3801/20640 with 0 missing, elapsed time: 74.697\n",
      "Imputing row 3901/20640 with 0 missing, elapsed time: 74.697\n",
      "Imputing row 4001/20640 with 0 missing, elapsed time: 74.698\n",
      "Imputing row 4101/20640 with 0 missing, elapsed time: 74.699\n",
      "Imputing row 4201/20640 with 0 missing, elapsed time: 74.700\n",
      "Imputing row 4301/20640 with 0 missing, elapsed time: 74.701\n",
      "Imputing row 4401/20640 with 0 missing, elapsed time: 74.701\n",
      "Imputing row 4501/20640 with 0 missing, elapsed time: 74.702\n",
      "Imputing row 4601/20640 with 1 missing, elapsed time: 74.703\n",
      "Imputing row 4701/20640 with 0 missing, elapsed time: 74.704\n",
      "Imputing row 4801/20640 with 0 missing, elapsed time: 74.705\n",
      "Imputing row 4901/20640 with 0 missing, elapsed time: 74.706\n",
      "Imputing row 5001/20640 with 0 missing, elapsed time: 74.706\n",
      "Imputing row 5101/20640 with 0 missing, elapsed time: 74.707\n",
      "Imputing row 5201/20640 with 0 missing, elapsed time: 74.708\n",
      "Imputing row 5301/20640 with 0 missing, elapsed time: 74.709\n",
      "Imputing row 5401/20640 with 0 missing, elapsed time: 74.709\n",
      "Imputing row 5501/20640 with 0 missing, elapsed time: 74.710\n",
      "Imputing row 5601/20640 with 0 missing, elapsed time: 74.710\n",
      "Imputing row 5701/20640 with 0 missing, elapsed time: 74.712\n",
      "Imputing row 5801/20640 with 0 missing, elapsed time: 74.713\n",
      "Imputing row 5901/20640 with 0 missing, elapsed time: 74.713\n",
      "Imputing row 6001/20640 with 0 missing, elapsed time: 74.714\n",
      "Imputing row 6101/20640 with 0 missing, elapsed time: 74.715\n",
      "Imputing row 6201/20640 with 0 missing, elapsed time: 74.715\n",
      "Imputing row 6301/20640 with 0 missing, elapsed time: 74.716\n",
      "Imputing row 6401/20640 with 0 missing, elapsed time: 74.717\n",
      "Imputing row 6501/20640 with 0 missing, elapsed time: 74.718\n",
      "Imputing row 6601/20640 with 0 missing, elapsed time: 74.719\n",
      "Imputing row 6701/20640 with 0 missing, elapsed time: 74.719\n",
      "Imputing row 6801/20640 with 0 missing, elapsed time: 74.720\n",
      "Imputing row 6901/20640 with 0 missing, elapsed time: 74.721\n",
      "Imputing row 7001/20640 with 0 missing, elapsed time: 74.722\n",
      "Imputing row 7101/20640 with 0 missing, elapsed time: 74.722\n",
      "Imputing row 7201/20640 with 0 missing, elapsed time: 74.723\n",
      "Imputing row 7301/20640 with 0 missing, elapsed time: 74.724\n",
      "Imputing row 7401/20640 with 0 missing, elapsed time: 74.725\n",
      "Imputing row 7501/20640 with 0 missing, elapsed time: 74.725\n",
      "Imputing row 7601/20640 with 0 missing, elapsed time: 74.726\n",
      "Imputing row 7701/20640 with 0 missing, elapsed time: 74.727\n",
      "Imputing row 7801/20640 with 0 missing, elapsed time: 74.728\n",
      "Imputing row 7901/20640 with 0 missing, elapsed time: 74.729\n",
      "Imputing row 8001/20640 with 0 missing, elapsed time: 74.729\n",
      "Imputing row 8101/20640 with 0 missing, elapsed time: 74.730\n",
      "Imputing row 8201/20640 with 0 missing, elapsed time: 74.730\n",
      "Imputing row 8301/20640 with 0 missing, elapsed time: 74.731\n",
      "Imputing row 8401/20640 with 0 missing, elapsed time: 74.732\n",
      "Imputing row 8501/20640 with 0 missing, elapsed time: 74.733\n",
      "Imputing row 8601/20640 with 0 missing, elapsed time: 74.734\n",
      "Imputing row 8701/20640 with 0 missing, elapsed time: 74.734\n",
      "Imputing row 8801/20640 with 0 missing, elapsed time: 74.735\n",
      "Imputing row 8901/20640 with 0 missing, elapsed time: 74.735\n",
      "Imputing row 9001/20640 with 0 missing, elapsed time: 74.736\n",
      "Imputing row 9101/20640 with 0 missing, elapsed time: 74.737\n",
      "Imputing row 9201/20640 with 0 missing, elapsed time: 74.738\n",
      "Imputing row 9301/20640 with 0 missing, elapsed time: 74.738\n",
      "Imputing row 9401/20640 with 0 missing, elapsed time: 74.739\n",
      "Imputing row 9501/20640 with 0 missing, elapsed time: 74.739\n",
      "Imputing row 9601/20640 with 0 missing, elapsed time: 74.740\n",
      "Imputing row 9701/20640 with 0 missing, elapsed time: 74.741\n",
      "Imputing row 9801/20640 with 0 missing, elapsed time: 74.742\n",
      "Imputing row 9901/20640 with 0 missing, elapsed time: 74.743\n",
      "Imputing row 10001/20640 with 0 missing, elapsed time: 74.744\n",
      "Imputing row 10101/20640 with 0 missing, elapsed time: 74.744\n",
      "Imputing row 10201/20640 with 0 missing, elapsed time: 74.745\n",
      "Imputing row 10301/20640 with 0 missing, elapsed time: 74.746\n",
      "Imputing row 10401/20640 with 0 missing, elapsed time: 74.747\n",
      "Imputing row 10501/20640 with 0 missing, elapsed time: 74.748\n",
      "Imputing row 10601/20640 with 0 missing, elapsed time: 74.748\n",
      "Imputing row 10701/20640 with 0 missing, elapsed time: 74.749\n",
      "Imputing row 10801/20640 with 0 missing, elapsed time: 74.750\n",
      "Imputing row 10901/20640 with 0 missing, elapsed time: 74.750\n",
      "Imputing row 11001/20640 with 0 missing, elapsed time: 74.751\n",
      "Imputing row 11101/20640 with 0 missing, elapsed time: 74.752\n",
      "Imputing row 11201/20640 with 0 missing, elapsed time: 74.752\n",
      "Imputing row 11301/20640 with 0 missing, elapsed time: 74.753\n",
      "Imputing row 11401/20640 with 0 missing, elapsed time: 74.754\n",
      "Imputing row 11501/20640 with 0 missing, elapsed time: 74.755\n",
      "Imputing row 11601/20640 with 0 missing, elapsed time: 74.756\n",
      "Imputing row 11701/20640 with 0 missing, elapsed time: 74.756\n",
      "Imputing row 11801/20640 with 0 missing, elapsed time: 74.757\n",
      "Imputing row 11901/20640 with 0 missing, elapsed time: 74.758\n",
      "Imputing row 12001/20640 with 0 missing, elapsed time: 74.758\n",
      "Imputing row 12101/20640 with 0 missing, elapsed time: 74.759\n",
      "Imputing row 12201/20640 with 0 missing, elapsed time: 74.760\n",
      "Imputing row 12301/20640 with 0 missing, elapsed time: 74.760\n",
      "Imputing row 12401/20640 with 0 missing, elapsed time: 74.761\n",
      "Imputing row 12501/20640 with 0 missing, elapsed time: 74.762\n",
      "Imputing row 12601/20640 with 0 missing, elapsed time: 74.763\n",
      "Imputing row 12701/20640 with 0 missing, elapsed time: 74.763\n",
      "Imputing row 12801/20640 with 0 missing, elapsed time: 74.763\n",
      "Imputing row 12901/20640 with 0 missing, elapsed time: 74.764\n",
      "Imputing row 13001/20640 with 0 missing, elapsed time: 74.765\n",
      "Imputing row 13101/20640 with 0 missing, elapsed time: 74.766\n",
      "Imputing row 13201/20640 with 0 missing, elapsed time: 74.766\n",
      "Imputing row 13301/20640 with 0 missing, elapsed time: 74.767\n",
      "Imputing row 13401/20640 with 0 missing, elapsed time: 74.769\n",
      "Imputing row 13501/20640 with 0 missing, elapsed time: 74.769\n",
      "Imputing row 13601/20640 with 0 missing, elapsed time: 74.770\n",
      "Imputing row 13701/20640 with 0 missing, elapsed time: 74.771\n",
      "Imputing row 13801/20640 with 0 missing, elapsed time: 74.772\n",
      "Imputing row 13901/20640 with 0 missing, elapsed time: 74.772\n",
      "Imputing row 14001/20640 with 0 missing, elapsed time: 74.774\n",
      "Imputing row 14101/20640 with 0 missing, elapsed time: 74.775\n",
      "Imputing row 14201/20640 with 0 missing, elapsed time: 74.776\n",
      "Imputing row 14301/20640 with 0 missing, elapsed time: 74.776\n",
      "Imputing row 14401/20640 with 0 missing, elapsed time: 74.777\n",
      "Imputing row 14501/20640 with 0 missing, elapsed time: 74.778\n",
      "Imputing row 14601/20640 with 0 missing, elapsed time: 74.779\n",
      "Imputing row 14701/20640 with 0 missing, elapsed time: 74.780\n",
      "Imputing row 14801/20640 with 0 missing, elapsed time: 74.780\n",
      "Imputing row 14901/20640 with 0 missing, elapsed time: 74.781\n",
      "Imputing row 15001/20640 with 0 missing, elapsed time: 74.782\n",
      "Imputing row 15101/20640 with 0 missing, elapsed time: 74.783\n",
      "Imputing row 15201/20640 with 0 missing, elapsed time: 74.784\n",
      "Imputing row 15301/20640 with 0 missing, elapsed time: 74.785\n",
      "Imputing row 15401/20640 with 0 missing, elapsed time: 74.786\n",
      "Imputing row 15501/20640 with 0 missing, elapsed time: 74.787\n",
      "Imputing row 15601/20640 with 0 missing, elapsed time: 74.787\n",
      "Imputing row 15701/20640 with 0 missing, elapsed time: 74.788\n",
      "Imputing row 15801/20640 with 0 missing, elapsed time: 74.789\n",
      "Imputing row 15901/20640 with 0 missing, elapsed time: 74.789\n",
      "Imputing row 16001/20640 with 0 missing, elapsed time: 74.790\n",
      "Imputing row 16101/20640 with 0 missing, elapsed time: 74.791\n",
      "Imputing row 16201/20640 with 0 missing, elapsed time: 74.792\n",
      "Imputing row 16301/20640 with 0 missing, elapsed time: 74.793\n",
      "Imputing row 16401/20640 with 0 missing, elapsed time: 74.794\n",
      "Imputing row 16501/20640 with 0 missing, elapsed time: 74.795\n",
      "Imputing row 16601/20640 with 0 missing, elapsed time: 74.795\n",
      "Imputing row 16701/20640 with 0 missing, elapsed time: 74.796\n",
      "Imputing row 16801/20640 with 0 missing, elapsed time: 74.797\n",
      "Imputing row 16901/20640 with 0 missing, elapsed time: 74.798\n",
      "Imputing row 17001/20640 with 0 missing, elapsed time: 74.798\n",
      "Imputing row 17101/20640 with 0 missing, elapsed time: 74.799\n",
      "Imputing row 17201/20640 with 0 missing, elapsed time: 74.800\n",
      "Imputing row 17301/20640 with 0 missing, elapsed time: 74.801\n",
      "Imputing row 17401/20640 with 0 missing, elapsed time: 74.801\n",
      "Imputing row 17501/20640 with 0 missing, elapsed time: 74.802\n",
      "Imputing row 17601/20640 with 0 missing, elapsed time: 74.802\n",
      "Imputing row 17701/20640 with 0 missing, elapsed time: 74.803\n",
      "Imputing row 17801/20640 with 0 missing, elapsed time: 74.804\n",
      "Imputing row 17901/20640 with 0 missing, elapsed time: 74.805\n",
      "Imputing row 18001/20640 with 0 missing, elapsed time: 74.806\n",
      "Imputing row 18101/20640 with 0 missing, elapsed time: 74.806\n",
      "Imputing row 18201/20640 with 0 missing, elapsed time: 74.807\n",
      "Imputing row 18301/20640 with 0 missing, elapsed time: 74.808\n",
      "Imputing row 18401/20640 with 0 missing, elapsed time: 74.809\n",
      "Imputing row 18501/20640 with 0 missing, elapsed time: 74.810\n",
      "Imputing row 18601/20640 with 0 missing, elapsed time: 74.810\n",
      "Imputing row 18701/20640 with 0 missing, elapsed time: 74.811\n",
      "Imputing row 18801/20640 with 0 missing, elapsed time: 74.812\n",
      "Imputing row 18901/20640 with 0 missing, elapsed time: 74.812\n",
      "Imputing row 19001/20640 with 0 missing, elapsed time: 74.813\n",
      "Imputing row 19101/20640 with 0 missing, elapsed time: 74.814\n",
      "Imputing row 19201/20640 with 0 missing, elapsed time: 74.815\n",
      "Imputing row 19301/20640 with 0 missing, elapsed time: 74.815\n",
      "Imputing row 19401/20640 with 0 missing, elapsed time: 74.817\n",
      "Imputing row 19501/20640 with 0 missing, elapsed time: 74.818\n",
      "Imputing row 19601/20640 with 0 missing, elapsed time: 74.819\n",
      "Imputing row 19701/20640 with 0 missing, elapsed time: 74.820\n",
      "Imputing row 19801/20640 with 0 missing, elapsed time: 74.820\n",
      "Imputing row 19901/20640 with 0 missing, elapsed time: 74.821\n",
      "Imputing row 20001/20640 with 0 missing, elapsed time: 74.822\n",
      "Imputing row 20101/20640 with 0 missing, elapsed time: 74.823\n",
      "Imputing row 20201/20640 with 0 missing, elapsed time: 74.824\n",
      "Imputing row 20301/20640 with 0 missing, elapsed time: 74.825\n",
      "Imputing row 20401/20640 with 0 missing, elapsed time: 74.826\n",
      "Imputing row 20501/20640 with 0 missing, elapsed time: 74.827\n",
      "Imputing row 20601/20640 with 0 missing, elapsed time: 74.827\n"
     ]
    }
   ],
   "source": [
    "dff = knnimput.KNN(k = 4).complete(n_df)"
   ]
  },
  {
   "cell_type": "code",
   "execution_count": 20,
   "id": "0c22e41b",
   "metadata": {
    "execution": {
     "iopub.execute_input": "2021-11-27T07:18:02.879957Z",
     "iopub.status.busy": "2021-11-27T07:18:02.878777Z",
     "iopub.status.idle": "2021-11-27T07:18:02.894609Z",
     "shell.execute_reply": "2021-11-27T07:18:02.893690Z",
     "shell.execute_reply.started": "2021-11-27T07:08:27.879992Z"
    },
    "papermill": {
     "duration": 0.063291,
     "end_time": "2021-11-27T07:18:02.894844",
     "exception": false,
     "start_time": "2021-11-27T07:18:02.831553",
     "status": "completed"
    },
    "tags": []
   },
   "outputs": [
    {
     "data": {
      "text/html": [
       "<div>\n",
       "<style scoped>\n",
       "    .dataframe tbody tr th:only-of-type {\n",
       "        vertical-align: middle;\n",
       "    }\n",
       "\n",
       "    .dataframe tbody tr th {\n",
       "        vertical-align: top;\n",
       "    }\n",
       "\n",
       "    .dataframe thead th {\n",
       "        text-align: right;\n",
       "    }\n",
       "</style>\n",
       "<table border=\"1\" class=\"dataframe\">\n",
       "  <thead>\n",
       "    <tr style=\"text-align: right;\">\n",
       "      <th></th>\n",
       "      <th>longitude</th>\n",
       "      <th>latitude</th>\n",
       "      <th>housing_median_age</th>\n",
       "      <th>total_rooms</th>\n",
       "      <th>total_bedrooms</th>\n",
       "      <th>population</th>\n",
       "      <th>households</th>\n",
       "      <th>median_income</th>\n",
       "      <th>median_house_value</th>\n",
       "    </tr>\n",
       "  </thead>\n",
       "  <tbody>\n",
       "    <tr>\n",
       "      <th>0</th>\n",
       "      <td>-122.23</td>\n",
       "      <td>37.88</td>\n",
       "      <td>41.0</td>\n",
       "      <td>880.0</td>\n",
       "      <td>129.0</td>\n",
       "      <td>322.0</td>\n",
       "      <td>126.0</td>\n",
       "      <td>8.3252</td>\n",
       "      <td>452600.0</td>\n",
       "    </tr>\n",
       "    <tr>\n",
       "      <th>1</th>\n",
       "      <td>-122.22</td>\n",
       "      <td>37.86</td>\n",
       "      <td>21.0</td>\n",
       "      <td>7099.0</td>\n",
       "      <td>1106.0</td>\n",
       "      <td>2401.0</td>\n",
       "      <td>1138.0</td>\n",
       "      <td>8.3014</td>\n",
       "      <td>358500.0</td>\n",
       "    </tr>\n",
       "    <tr>\n",
       "      <th>2</th>\n",
       "      <td>-122.24</td>\n",
       "      <td>37.85</td>\n",
       "      <td>52.0</td>\n",
       "      <td>1467.0</td>\n",
       "      <td>190.0</td>\n",
       "      <td>496.0</td>\n",
       "      <td>177.0</td>\n",
       "      <td>7.2574</td>\n",
       "      <td>352100.0</td>\n",
       "    </tr>\n",
       "    <tr>\n",
       "      <th>3</th>\n",
       "      <td>-122.25</td>\n",
       "      <td>37.85</td>\n",
       "      <td>52.0</td>\n",
       "      <td>1274.0</td>\n",
       "      <td>235.0</td>\n",
       "      <td>558.0</td>\n",
       "      <td>219.0</td>\n",
       "      <td>5.6431</td>\n",
       "      <td>341300.0</td>\n",
       "    </tr>\n",
       "    <tr>\n",
       "      <th>4</th>\n",
       "      <td>-122.25</td>\n",
       "      <td>37.85</td>\n",
       "      <td>52.0</td>\n",
       "      <td>1627.0</td>\n",
       "      <td>280.0</td>\n",
       "      <td>565.0</td>\n",
       "      <td>259.0</td>\n",
       "      <td>3.8462</td>\n",
       "      <td>342200.0</td>\n",
       "    </tr>\n",
       "  </tbody>\n",
       "</table>\n",
       "</div>"
      ],
      "text/plain": [
       "   longitude  latitude  housing_median_age  total_rooms  total_bedrooms  \\\n",
       "0    -122.23     37.88                41.0        880.0           129.0   \n",
       "1    -122.22     37.86                21.0       7099.0          1106.0   \n",
       "2    -122.24     37.85                52.0       1467.0           190.0   \n",
       "3    -122.25     37.85                52.0       1274.0           235.0   \n",
       "4    -122.25     37.85                52.0       1627.0           280.0   \n",
       "\n",
       "   population  households  median_income  median_house_value  \n",
       "0       322.0       126.0         8.3252            452600.0  \n",
       "1      2401.0      1138.0         8.3014            358500.0  \n",
       "2       496.0       177.0         7.2574            352100.0  \n",
       "3       558.0       219.0         5.6431            341300.0  \n",
       "4       565.0       259.0         3.8462            342200.0  "
      ]
     },
     "execution_count": 20,
     "metadata": {},
     "output_type": "execute_result"
    }
   ],
   "source": [
    "dff = pd.DataFrame(dff, columns = var_names)\n",
    "dff.head()"
   ]
  },
  {
   "cell_type": "code",
   "execution_count": 21,
   "id": "e969db75",
   "metadata": {
    "execution": {
     "iopub.execute_input": "2021-11-27T07:18:02.973638Z",
     "iopub.status.busy": "2021-11-27T07:18:02.972552Z",
     "iopub.status.idle": "2021-11-27T07:18:02.980711Z",
     "shell.execute_reply": "2021-11-27T07:18:02.980069Z",
     "shell.execute_reply.started": "2021-11-27T07:08:27.912477Z"
    },
    "papermill": {
     "duration": 0.048879,
     "end_time": "2021-11-27T07:18:02.980871",
     "exception": false,
     "start_time": "2021-11-27T07:18:02.931992",
     "status": "completed"
    },
    "tags": []
   },
   "outputs": [
    {
     "data": {
      "text/plain": [
       "longitude             0\n",
       "latitude              0\n",
       "housing_median_age    0\n",
       "total_rooms           0\n",
       "total_bedrooms        0\n",
       "population            0\n",
       "households            0\n",
       "median_income         0\n",
       "median_house_value    0\n",
       "dtype: int64"
      ]
     },
     "execution_count": 21,
     "metadata": {},
     "output_type": "execute_result"
    }
   ],
   "source": [
    "dff.isnull().sum()"
   ]
  }
 ],
 "metadata": {
  "kernelspec": {
   "display_name": "Python 3",
   "language": "python",
   "name": "python3"
  },
  "language_info": {
   "codemirror_mode": {
    "name": "ipython",
    "version": 3
   },
   "file_extension": ".py",
   "mimetype": "text/x-python",
   "name": "python",
   "nbconvert_exporter": "python",
   "pygments_lexer": "ipython3",
   "version": "3.7.10"
  },
  "papermill": {
   "default_parameters": {},
   "duration": 105.190465,
   "end_time": "2021-11-27T07:18:04.328238",
   "environment_variables": {},
   "exception": null,
   "input_path": "__notebook__.ipynb",
   "output_path": "__notebook__.ipynb",
   "parameters": {},
   "start_time": "2021-11-27T07:16:19.137773",
   "version": "2.3.3"
  }
 },
 "nbformat": 4,
 "nbformat_minor": 5
}
